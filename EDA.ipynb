{
 "cells": [
  {
   "cell_type": "markdown",
   "id": "64313153-4ca1-4f25-b34b-8f3d74032696",
   "metadata": {},
   "source": [
    "### Understanding Financial Data"
   ]
  },
  {
   "cell_type": "code",
   "execution_count": 1,
   "id": "f52e1a7e-630c-4e55-b1df-5b19ed8ec256",
   "metadata": {},
   "outputs": [],
   "source": [
    "import pandas as pd"
   ]
  },
  {
   "cell_type": "code",
   "execution_count": null,
   "id": "b627e3fc-0f05-4601-ae24-0e38c6b8a92a",
   "metadata": {},
   "outputs": [],
   "source": []
  }
 ],
 "metadata": {
  "kernelspec": {
   "display_name": "Python 3 (ipykernel)",
   "language": "python",
   "name": "python3"
  },
  "language_info": {
   "codemirror_mode": {
    "name": "ipython",
    "version": 3
   },
   "file_extension": ".py",
   "mimetype": "text/x-python",
   "name": "python",
   "nbconvert_exporter": "python",
   "pygments_lexer": "ipython3",
   "version": "3.10.13"
  }
 },
 "nbformat": 4,
 "nbformat_minor": 5
}
