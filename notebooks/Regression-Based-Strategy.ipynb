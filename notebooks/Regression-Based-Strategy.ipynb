{
 "cells": [
  {
   "cell_type": "code",
   "execution_count": 1,
   "id": "acf8ac20-a7cb-4994-bf5a-3064bead0f48",
   "metadata": {},
   "outputs": [],
   "source": [
    "import pandas as pd\n",
    "import numpy as np\n",
    "import matplotlib.pyplot as plt"
   ]
  },
  {
   "cell_type": "code",
   "execution_count": 44,
   "id": "50f663f5-0e05-4626-881c-83eab3b44ec2",
   "metadata": {},
   "outputs": [],
   "source": [
    "df = pd.read_csv('sp500_closefull.csv', index_col=0, parse_dates=True)"
   ]
  },
  {
   "cell_type": "code",
   "execution_count": 45,
   "id": "cade30a5-963f-4e15-9112-a63c5243f4f0",
   "metadata": {},
   "outputs": [
    {
     "data": {
      "text/html": [
       "<div>\n",
       "<style scoped>\n",
       "    .dataframe tbody tr th:only-of-type {\n",
       "        vertical-align: middle;\n",
       "    }\n",
       "\n",
       "    .dataframe tbody tr th {\n",
       "        vertical-align: top;\n",
       "    }\n",
       "\n",
       "    .dataframe thead th {\n",
       "        text-align: right;\n",
       "    }\n",
       "</style>\n",
       "<table border=\"1\" class=\"dataframe\">\n",
       "  <thead>\n",
       "    <tr style=\"text-align: right;\">\n",
       "      <th></th>\n",
       "      <th>KLAC</th>\n",
       "      <th>AIG</th>\n",
       "      <th>SNA</th>\n",
       "      <th>CNP</th>\n",
       "      <th>VMC</th>\n",
       "      <th>YUM</th>\n",
       "      <th>QRVO</th>\n",
       "      <th>DLR</th>\n",
       "      <th>PAYX</th>\n",
       "      <th>MSI</th>\n",
       "      <th>...</th>\n",
       "      <th>M</th>\n",
       "      <th>ZION</th>\n",
       "      <th>GPC</th>\n",
       "      <th>DIS</th>\n",
       "      <th>FE</th>\n",
       "      <th>FRT</th>\n",
       "      <th>JNPR</th>\n",
       "      <th>LRCX</th>\n",
       "      <th>AAL</th>\n",
       "      <th>REGN</th>\n",
       "    </tr>\n",
       "  </thead>\n",
       "  <tbody>\n",
       "    <tr>\n",
       "      <th>2010-01-04</th>\n",
       "      <td>36.919998</td>\n",
       "      <td>29.889999</td>\n",
       "      <td>42.860001</td>\n",
       "      <td>14.52</td>\n",
       "      <td>52.730000</td>\n",
       "      <td>25.226456</td>\n",
       "      <td>70.400002</td>\n",
       "      <td>50.150002</td>\n",
       "      <td>30.820000</td>\n",
       "      <td>32.218723</td>\n",
       "      <td>...</td>\n",
       "      <td>17.059999</td>\n",
       "      <td>13.33</td>\n",
       "      <td>38.130001</td>\n",
       "      <td>32.070000</td>\n",
       "      <td>46.770000</td>\n",
       "      <td>67.029999</td>\n",
       "      <td>27.180000</td>\n",
       "      <td>39.880001</td>\n",
       "      <td>4.77</td>\n",
       "      <td>24.629999</td>\n",
       "    </tr>\n",
       "    <tr>\n",
       "      <th>2010-01-05</th>\n",
       "      <td>36.509998</td>\n",
       "      <td>29.330000</td>\n",
       "      <td>42.840000</td>\n",
       "      <td>14.41</td>\n",
       "      <td>52.930000</td>\n",
       "      <td>25.140186</td>\n",
       "      <td>70.400002</td>\n",
       "      <td>50.480000</td>\n",
       "      <td>30.799999</td>\n",
       "      <td>31.774050</td>\n",
       "      <td>...</td>\n",
       "      <td>16.860001</td>\n",
       "      <td>13.80</td>\n",
       "      <td>38.090000</td>\n",
       "      <td>31.990000</td>\n",
       "      <td>46.250000</td>\n",
       "      <td>66.949997</td>\n",
       "      <td>26.750000</td>\n",
       "      <td>39.610001</td>\n",
       "      <td>5.31</td>\n",
       "      <td>25.100000</td>\n",
       "    </tr>\n",
       "    <tr>\n",
       "      <th>2010-01-06</th>\n",
       "      <td>36.369999</td>\n",
       "      <td>29.139999</td>\n",
       "      <td>43.080002</td>\n",
       "      <td>14.27</td>\n",
       "      <td>53.849998</td>\n",
       "      <td>24.960461</td>\n",
       "      <td>70.400002</td>\n",
       "      <td>49.799999</td>\n",
       "      <td>31.049999</td>\n",
       "      <td>32.218723</td>\n",
       "      <td>...</td>\n",
       "      <td>17.100000</td>\n",
       "      <td>15.00</td>\n",
       "      <td>38.020000</td>\n",
       "      <td>31.820000</td>\n",
       "      <td>46.750000</td>\n",
       "      <td>66.769997</td>\n",
       "      <td>26.030001</td>\n",
       "      <td>39.430000</td>\n",
       "      <td>5.09</td>\n",
       "      <td>24.719999</td>\n",
       "    </tr>\n",
       "    <tr>\n",
       "      <th>2010-01-07</th>\n",
       "      <td>36.570000</td>\n",
       "      <td>28.580000</td>\n",
       "      <td>43.799999</td>\n",
       "      <td>14.41</td>\n",
       "      <td>53.169998</td>\n",
       "      <td>24.953272</td>\n",
       "      <td>70.400002</td>\n",
       "      <td>50.240002</td>\n",
       "      <td>31.540001</td>\n",
       "      <td>32.865524</td>\n",
       "      <td>...</td>\n",
       "      <td>17.490000</td>\n",
       "      <td>16.68</td>\n",
       "      <td>38.230000</td>\n",
       "      <td>31.830000</td>\n",
       "      <td>46.049999</td>\n",
       "      <td>66.750000</td>\n",
       "      <td>26.160000</td>\n",
       "      <td>39.360001</td>\n",
       "      <td>5.24</td>\n",
       "      <td>24.570000</td>\n",
       "    </tr>\n",
       "    <tr>\n",
       "      <th>2010-01-08</th>\n",
       "      <td>37.119999</td>\n",
       "      <td>29.340000</td>\n",
       "      <td>44.709999</td>\n",
       "      <td>14.24</td>\n",
       "      <td>52.650002</td>\n",
       "      <td>24.960461</td>\n",
       "      <td>70.400002</td>\n",
       "      <td>50.799999</td>\n",
       "      <td>31.559999</td>\n",
       "      <td>31.369801</td>\n",
       "      <td>...</td>\n",
       "      <td>16.920000</td>\n",
       "      <td>16.41</td>\n",
       "      <td>38.240002</td>\n",
       "      <td>31.879999</td>\n",
       "      <td>45.810001</td>\n",
       "      <td>66.330002</td>\n",
       "      <td>26.250000</td>\n",
       "      <td>40.349998</td>\n",
       "      <td>5.14</td>\n",
       "      <td>24.370001</td>\n",
       "    </tr>\n",
       "  </tbody>\n",
       "</table>\n",
       "<p>5 rows × 443 columns</p>\n",
       "</div>"
      ],
      "text/plain": [
       "                 KLAC        AIG        SNA    CNP        VMC        YUM  \\\n",
       "2010-01-04  36.919998  29.889999  42.860001  14.52  52.730000  25.226456   \n",
       "2010-01-05  36.509998  29.330000  42.840000  14.41  52.930000  25.140186   \n",
       "2010-01-06  36.369999  29.139999  43.080002  14.27  53.849998  24.960461   \n",
       "2010-01-07  36.570000  28.580000  43.799999  14.41  53.169998  24.953272   \n",
       "2010-01-08  37.119999  29.340000  44.709999  14.24  52.650002  24.960461   \n",
       "\n",
       "                 QRVO        DLR       PAYX        MSI  ...          M   ZION  \\\n",
       "2010-01-04  70.400002  50.150002  30.820000  32.218723  ...  17.059999  13.33   \n",
       "2010-01-05  70.400002  50.480000  30.799999  31.774050  ...  16.860001  13.80   \n",
       "2010-01-06  70.400002  49.799999  31.049999  32.218723  ...  17.100000  15.00   \n",
       "2010-01-07  70.400002  50.240002  31.540001  32.865524  ...  17.490000  16.68   \n",
       "2010-01-08  70.400002  50.799999  31.559999  31.369801  ...  16.920000  16.41   \n",
       "\n",
       "                  GPC        DIS         FE        FRT       JNPR       LRCX  \\\n",
       "2010-01-04  38.130001  32.070000  46.770000  67.029999  27.180000  39.880001   \n",
       "2010-01-05  38.090000  31.990000  46.250000  66.949997  26.750000  39.610001   \n",
       "2010-01-06  38.020000  31.820000  46.750000  66.769997  26.030001  39.430000   \n",
       "2010-01-07  38.230000  31.830000  46.049999  66.750000  26.160000  39.360001   \n",
       "2010-01-08  38.240002  31.879999  45.810001  66.330002  26.250000  40.349998   \n",
       "\n",
       "             AAL       REGN  \n",
       "2010-01-04  4.77  24.629999  \n",
       "2010-01-05  5.31  25.100000  \n",
       "2010-01-06  5.09  24.719999  \n",
       "2010-01-07  5.24  24.570000  \n",
       "2010-01-08  5.14  24.370001  \n",
       "\n",
       "[5 rows x 443 columns]"
      ]
     },
     "execution_count": 45,
     "metadata": {},
     "output_type": "execute_result"
    }
   ],
   "source": [
    "df.head()"
   ]
  },
  {
   "cell_type": "code",
   "execution_count": 46,
   "id": "d387999d-d4b2-4bfd-bdc9-ee1f5f7dd421",
   "metadata": {},
   "outputs": [],
   "source": [
    "df_returns=pd.DataFrame()"
   ]
  },
  {
   "cell_type": "code",
   "execution_count": 47,
   "id": "d1cbb4a8-dd17-410c-a152-b1757dbe106b",
   "metadata": {},
   "outputs": [],
   "source": [
    "# Assuming df is your original DataFrame\n",
    "log_diff_list = []\n",
    "\n",
    "for name in df.columns:\n",
    "    log_diff = np.log(df[name]).diff()\n",
    "    log_diff_list.append(log_diff)\n",
    "\n",
    "# Concatenate all the log differences into a single DataFrame\n",
    "df_returns = pd.concat(log_diff_list, axis=1)\n",
    "\n",
    "# Set the column names to be the same as the original DataFrame\n",
    "df_returns.columns = df.columns"
   ]
  },
  {
   "cell_type": "code",
   "execution_count": 48,
   "id": "d361326a-18b4-485d-b06c-3f9863fa0f8b",
   "metadata": {},
   "outputs": [
    {
     "data": {
      "text/html": [
       "<div>\n",
       "<style scoped>\n",
       "    .dataframe tbody tr th:only-of-type {\n",
       "        vertical-align: middle;\n",
       "    }\n",
       "\n",
       "    .dataframe tbody tr th {\n",
       "        vertical-align: top;\n",
       "    }\n",
       "\n",
       "    .dataframe thead th {\n",
       "        text-align: right;\n",
       "    }\n",
       "</style>\n",
       "<table border=\"1\" class=\"dataframe\">\n",
       "  <thead>\n",
       "    <tr style=\"text-align: right;\">\n",
       "      <th></th>\n",
       "      <th>KLAC</th>\n",
       "      <th>AIG</th>\n",
       "      <th>SNA</th>\n",
       "      <th>CNP</th>\n",
       "      <th>VMC</th>\n",
       "      <th>YUM</th>\n",
       "      <th>QRVO</th>\n",
       "      <th>DLR</th>\n",
       "      <th>PAYX</th>\n",
       "      <th>MSI</th>\n",
       "      <th>...</th>\n",
       "      <th>M</th>\n",
       "      <th>ZION</th>\n",
       "      <th>GPC</th>\n",
       "      <th>DIS</th>\n",
       "      <th>FE</th>\n",
       "      <th>FRT</th>\n",
       "      <th>JNPR</th>\n",
       "      <th>LRCX</th>\n",
       "      <th>AAL</th>\n",
       "      <th>REGN</th>\n",
       "    </tr>\n",
       "  </thead>\n",
       "  <tbody>\n",
       "    <tr>\n",
       "      <th>2010-01-04</th>\n",
       "      <td>NaN</td>\n",
       "      <td>NaN</td>\n",
       "      <td>NaN</td>\n",
       "      <td>NaN</td>\n",
       "      <td>NaN</td>\n",
       "      <td>NaN</td>\n",
       "      <td>NaN</td>\n",
       "      <td>NaN</td>\n",
       "      <td>NaN</td>\n",
       "      <td>NaN</td>\n",
       "      <td>...</td>\n",
       "      <td>NaN</td>\n",
       "      <td>NaN</td>\n",
       "      <td>NaN</td>\n",
       "      <td>NaN</td>\n",
       "      <td>NaN</td>\n",
       "      <td>NaN</td>\n",
       "      <td>NaN</td>\n",
       "      <td>NaN</td>\n",
       "      <td>NaN</td>\n",
       "      <td>NaN</td>\n",
       "    </tr>\n",
       "    <tr>\n",
       "      <th>2010-01-05</th>\n",
       "      <td>-0.011167</td>\n",
       "      <td>-0.018913</td>\n",
       "      <td>-0.000467</td>\n",
       "      <td>-0.007605</td>\n",
       "      <td>0.003786</td>\n",
       "      <td>-0.003426</td>\n",
       "      <td>0.0</td>\n",
       "      <td>0.006559</td>\n",
       "      <td>-0.000649</td>\n",
       "      <td>-0.013898</td>\n",
       "      <td>...</td>\n",
       "      <td>-0.011793</td>\n",
       "      <td>0.034651</td>\n",
       "      <td>-0.001050</td>\n",
       "      <td>-0.002498</td>\n",
       "      <td>-0.011181</td>\n",
       "      <td>-0.001194</td>\n",
       "      <td>-0.015947</td>\n",
       "      <td>-0.006793</td>\n",
       "      <td>0.107246</td>\n",
       "      <td>0.018903</td>\n",
       "    </tr>\n",
       "    <tr>\n",
       "      <th>2010-01-06</th>\n",
       "      <td>-0.003842</td>\n",
       "      <td>-0.006499</td>\n",
       "      <td>0.005587</td>\n",
       "      <td>-0.009763</td>\n",
       "      <td>0.017232</td>\n",
       "      <td>-0.007175</td>\n",
       "      <td>0.0</td>\n",
       "      <td>-0.013562</td>\n",
       "      <td>0.008084</td>\n",
       "      <td>0.013898</td>\n",
       "      <td>...</td>\n",
       "      <td>0.014134</td>\n",
       "      <td>0.083382</td>\n",
       "      <td>-0.001839</td>\n",
       "      <td>-0.005328</td>\n",
       "      <td>0.010753</td>\n",
       "      <td>-0.002692</td>\n",
       "      <td>-0.027285</td>\n",
       "      <td>-0.004555</td>\n",
       "      <td>-0.042314</td>\n",
       "      <td>-0.015255</td>\n",
       "    </tr>\n",
       "    <tr>\n",
       "      <th>2010-01-07</th>\n",
       "      <td>0.005484</td>\n",
       "      <td>-0.019405</td>\n",
       "      <td>0.016575</td>\n",
       "      <td>0.009763</td>\n",
       "      <td>-0.012708</td>\n",
       "      <td>-0.000288</td>\n",
       "      <td>0.0</td>\n",
       "      <td>0.008797</td>\n",
       "      <td>0.015658</td>\n",
       "      <td>0.019876</td>\n",
       "      <td>...</td>\n",
       "      <td>0.022551</td>\n",
       "      <td>0.106160</td>\n",
       "      <td>0.005508</td>\n",
       "      <td>0.000314</td>\n",
       "      <td>-0.015087</td>\n",
       "      <td>-0.000300</td>\n",
       "      <td>0.004982</td>\n",
       "      <td>-0.001777</td>\n",
       "      <td>0.029044</td>\n",
       "      <td>-0.006086</td>\n",
       "    </tr>\n",
       "    <tr>\n",
       "      <th>2010-01-08</th>\n",
       "      <td>0.014928</td>\n",
       "      <td>0.026245</td>\n",
       "      <td>0.020563</td>\n",
       "      <td>-0.011868</td>\n",
       "      <td>-0.009828</td>\n",
       "      <td>0.000288</td>\n",
       "      <td>0.0</td>\n",
       "      <td>0.011085</td>\n",
       "      <td>0.000634</td>\n",
       "      <td>-0.046579</td>\n",
       "      <td>...</td>\n",
       "      <td>-0.033133</td>\n",
       "      <td>-0.016320</td>\n",
       "      <td>0.000262</td>\n",
       "      <td>0.001570</td>\n",
       "      <td>-0.005225</td>\n",
       "      <td>-0.006312</td>\n",
       "      <td>0.003434</td>\n",
       "      <td>0.024841</td>\n",
       "      <td>-0.019268</td>\n",
       "      <td>-0.008173</td>\n",
       "    </tr>\n",
       "  </tbody>\n",
       "</table>\n",
       "<p>5 rows × 443 columns</p>\n",
       "</div>"
      ],
      "text/plain": [
       "                KLAC       AIG       SNA       CNP       VMC       YUM  QRVO  \\\n",
       "2010-01-04       NaN       NaN       NaN       NaN       NaN       NaN   NaN   \n",
       "2010-01-05 -0.011167 -0.018913 -0.000467 -0.007605  0.003786 -0.003426   0.0   \n",
       "2010-01-06 -0.003842 -0.006499  0.005587 -0.009763  0.017232 -0.007175   0.0   \n",
       "2010-01-07  0.005484 -0.019405  0.016575  0.009763 -0.012708 -0.000288   0.0   \n",
       "2010-01-08  0.014928  0.026245  0.020563 -0.011868 -0.009828  0.000288   0.0   \n",
       "\n",
       "                 DLR      PAYX       MSI  ...         M      ZION       GPC  \\\n",
       "2010-01-04       NaN       NaN       NaN  ...       NaN       NaN       NaN   \n",
       "2010-01-05  0.006559 -0.000649 -0.013898  ... -0.011793  0.034651 -0.001050   \n",
       "2010-01-06 -0.013562  0.008084  0.013898  ...  0.014134  0.083382 -0.001839   \n",
       "2010-01-07  0.008797  0.015658  0.019876  ...  0.022551  0.106160  0.005508   \n",
       "2010-01-08  0.011085  0.000634 -0.046579  ... -0.033133 -0.016320  0.000262   \n",
       "\n",
       "                 DIS        FE       FRT      JNPR      LRCX       AAL  \\\n",
       "2010-01-04       NaN       NaN       NaN       NaN       NaN       NaN   \n",
       "2010-01-05 -0.002498 -0.011181 -0.001194 -0.015947 -0.006793  0.107246   \n",
       "2010-01-06 -0.005328  0.010753 -0.002692 -0.027285 -0.004555 -0.042314   \n",
       "2010-01-07  0.000314 -0.015087 -0.000300  0.004982 -0.001777  0.029044   \n",
       "2010-01-08  0.001570 -0.005225 -0.006312  0.003434  0.024841 -0.019268   \n",
       "\n",
       "                REGN  \n",
       "2010-01-04       NaN  \n",
       "2010-01-05  0.018903  \n",
       "2010-01-06 -0.015255  \n",
       "2010-01-07 -0.006086  \n",
       "2010-01-08 -0.008173  \n",
       "\n",
       "[5 rows x 443 columns]"
      ]
     },
     "execution_count": 48,
     "metadata": {},
     "output_type": "execute_result"
    }
   ],
   "source": [
    "df_returns.head()"
   ]
  },
  {
   "cell_type": "code",
   "execution_count": 49,
   "id": "8f226de9-3ca1-4e32-a108-55ae50bd95bb",
   "metadata": {},
   "outputs": [
    {
     "data": {
      "text/plain": [
       "2024-07-23   -0.022923\n",
       "2024-07-24   -0.005224\n",
       "2024-07-25    0.011137\n",
       "2024-07-26    0.000588\n",
       "2024-07-29         NaN\n",
       "Name: SPY, dtype: float64"
      ]
     },
     "execution_count": 49,
     "metadata": {},
     "output_type": "execute_result"
    }
   ],
   "source": [
    "df_returns['SPY'] = df_returns['SPY'].shift(-1)\n",
    "df_returns['SPY'].tail()"
   ]
  },
  {
   "cell_type": "code",
   "execution_count": 50,
   "id": "1f2026c6-2150-415d-878e-9d1a3f84c65d",
   "metadata": {},
   "outputs": [
    {
     "data": {
      "text/plain": [
       "(3666, 443)"
      ]
     },
     "execution_count": 50,
     "metadata": {},
     "output_type": "execute_result"
    }
   ],
   "source": [
    "df_returns.shape"
   ]
  },
  {
   "cell_type": "code",
   "execution_count": 51,
   "id": "12d6722c-fde4-4125-99bc-c93f9e90e08d",
   "metadata": {},
   "outputs": [],
   "source": [
    "Ntest = 1000\n",
    "train = df_returns.iloc[1:-Ntest]\n",
    "test = df_returns.iloc[-Ntest:-1]"
   ]
  },
  {
   "cell_type": "code",
   "execution_count": 52,
   "id": "2730c659-4306-447d-aa8c-d52d6ab27f9b",
   "metadata": {},
   "outputs": [
    {
     "data": {
      "text/plain": [
       "Index(['KLAC', 'AIG', 'SNA', 'CNP', 'VMC', 'YUM', 'QRVO', 'DLR', 'PAYX', 'MSI',\n",
       "       ...\n",
       "       'M', 'ZION', 'GPC', 'DIS', 'FE', 'FRT', 'JNPR', 'LRCX', 'AAL', 'REGN'],\n",
       "      dtype='object', length=443)"
      ]
     },
     "execution_count": 52,
     "metadata": {},
     "output_type": "execute_result"
    }
   ],
   "source": [
    "df_returns.columns"
   ]
  },
  {
   "cell_type": "code",
   "execution_count": 53,
   "id": "c6163782-592a-4a82-a860-51d4650a9152",
   "metadata": {},
   "outputs": [
    {
     "data": {
      "text/plain": [
       "['AAPL', 'MSFT', 'AMZN', 'JNJ', 'V', 'PG', 'JPM']"
      ]
     },
     "execution_count": 53,
     "metadata": {},
     "output_type": "execute_result"
    }
   ],
   "source": [
    "# x_cols = df.columns.drop('SPY')\n",
    "x_cols = ['AAPL', 'MSFT', 'AMZN', 'JNJ', 'V', 'PG', 'JPM']\n",
    "x_cols"
   ]
  },
  {
   "cell_type": "code",
   "execution_count": 54,
   "id": "c3538125-d223-4a4e-9825-789a0967c59e",
   "metadata": {},
   "outputs": [],
   "source": [
    "Xtrain = train[x_cols]\n",
    "Ytrain = train['SPY']\n",
    "Xtest = test[x_cols]\n",
    "Ytest = test['SPY']"
   ]
  },
  {
   "cell_type": "code",
   "execution_count": 59,
   "id": "9bdc3dea-fae1-4d2b-9eb9-afd18bcc5611",
   "metadata": {},
   "outputs": [
    {
     "data": {
      "text/html": [
       "<div>\n",
       "<style scoped>\n",
       "    .dataframe tbody tr th:only-of-type {\n",
       "        vertical-align: middle;\n",
       "    }\n",
       "\n",
       "    .dataframe tbody tr th {\n",
       "        vertical-align: top;\n",
       "    }\n",
       "\n",
       "    .dataframe thead th {\n",
       "        text-align: right;\n",
       "    }\n",
       "</style>\n",
       "<table border=\"1\" class=\"dataframe\">\n",
       "  <thead>\n",
       "    <tr style=\"text-align: right;\">\n",
       "      <th></th>\n",
       "      <th>AAPL</th>\n",
       "      <th>MSFT</th>\n",
       "      <th>AMZN</th>\n",
       "      <th>JNJ</th>\n",
       "      <th>V</th>\n",
       "      <th>PG</th>\n",
       "      <th>JPM</th>\n",
       "    </tr>\n",
       "  </thead>\n",
       "  <tbody>\n",
       "    <tr>\n",
       "      <th>2010-01-05</th>\n",
       "      <td>0.001727</td>\n",
       "      <td>0.000323</td>\n",
       "      <td>0.005883</td>\n",
       "      <td>-0.011663</td>\n",
       "      <td>-0.011525</td>\n",
       "      <td>0.000327</td>\n",
       "      <td>0.019185</td>\n",
       "    </tr>\n",
       "    <tr>\n",
       "      <th>2010-01-06</th>\n",
       "      <td>-0.016034</td>\n",
       "      <td>-0.006156</td>\n",
       "      <td>-0.018282</td>\n",
       "      <td>0.008101</td>\n",
       "      <td>-0.013519</td>\n",
       "      <td>-0.004755</td>\n",
       "      <td>0.005479</td>\n",
       "    </tr>\n",
       "    <tr>\n",
       "      <th>2010-01-07</th>\n",
       "      <td>-0.001850</td>\n",
       "      <td>-0.010454</td>\n",
       "      <td>-0.017160</td>\n",
       "      <td>-0.007163</td>\n",
       "      <td>0.009264</td>\n",
       "      <td>-0.005438</td>\n",
       "      <td>0.019615</td>\n",
       "    </tr>\n",
       "    <tr>\n",
       "      <th>2010-01-08</th>\n",
       "      <td>0.006626</td>\n",
       "      <td>0.006873</td>\n",
       "      <td>0.026717</td>\n",
       "      <td>0.003432</td>\n",
       "      <td>0.002762</td>\n",
       "      <td>-0.001323</td>\n",
       "      <td>-0.002459</td>\n",
       "    </tr>\n",
       "    <tr>\n",
       "      <th>2010-01-11</th>\n",
       "      <td>-0.008861</td>\n",
       "      <td>-0.012802</td>\n",
       "      <td>-0.024335</td>\n",
       "      <td>0.000156</td>\n",
       "      <td>-0.002878</td>\n",
       "      <td>-0.003979</td>\n",
       "      <td>-0.003363</td>\n",
       "    </tr>\n",
       "  </tbody>\n",
       "</table>\n",
       "</div>"
      ],
      "text/plain": [
       "                AAPL      MSFT      AMZN       JNJ         V        PG  \\\n",
       "2010-01-05  0.001727  0.000323  0.005883 -0.011663 -0.011525  0.000327   \n",
       "2010-01-06 -0.016034 -0.006156 -0.018282  0.008101 -0.013519 -0.004755   \n",
       "2010-01-07 -0.001850 -0.010454 -0.017160 -0.007163  0.009264 -0.005438   \n",
       "2010-01-08  0.006626  0.006873  0.026717  0.003432  0.002762 -0.001323   \n",
       "2010-01-11 -0.008861 -0.012802 -0.024335  0.000156 -0.002878 -0.003979   \n",
       "\n",
       "                 JPM  \n",
       "2010-01-05  0.019185  \n",
       "2010-01-06  0.005479  \n",
       "2010-01-07  0.019615  \n",
       "2010-01-08 -0.002459  \n",
       "2010-01-11 -0.003363  "
      ]
     },
     "execution_count": 59,
     "metadata": {},
     "output_type": "execute_result"
    }
   ],
   "source": [
    "Xtrain.head()"
   ]
  },
  {
   "cell_type": "code",
   "execution_count": 60,
   "id": "da7a4b0e-23fa-4ad4-8c51-209f88948a2e",
   "metadata": {},
   "outputs": [
    {
     "data": {
      "text/plain": [
       "2010-01-05    0.000704\n",
       "2010-01-06    0.004212\n",
       "2010-01-07    0.003322\n",
       "2010-01-08    0.001396\n",
       "2010-01-11   -0.009370\n",
       "Name: SPY, dtype: float64"
      ]
     },
     "execution_count": 60,
     "metadata": {},
     "output_type": "execute_result"
    }
   ],
   "source": [
    "Ytrain.head()"
   ]
  },
  {
   "cell_type": "code",
   "execution_count": 62,
   "id": "1e48e729-0bd1-4377-a347-722e39818167",
   "metadata": {},
   "outputs": [
    {
     "data": {
      "text/plain": [
       "(0.028346058518632034, -0.022185311729904456)"
      ]
     },
     "execution_count": 62,
     "metadata": {},
     "output_type": "execute_result"
    }
   ],
   "source": [
    "from sklearn.linear_model import LinearRegression\n",
    "model = LinearRegression()\n",
    "model.fit(Xtrain, Ytrain)\n",
    "model.score(Xtrain, Ytrain), model.score(Xtest, Ytest)"
   ]
  },
  {
   "cell_type": "code",
   "execution_count": 63,
   "id": "41632b68-6fbc-4bb6-97c4-0408aa9b401a",
   "metadata": {},
   "outputs": [
    {
     "data": {
      "text/plain": [
       "(np.float64(0.5354596622889306), np.float64(0.4934934934934935))"
      ]
     },
     "execution_count": 63,
     "metadata": {},
     "output_type": "execute_result"
    }
   ],
   "source": [
    "# Direction\n",
    "Ptrain = model.predict(Xtrain)\n",
    "Ptest = model.predict(Xtest)\n",
    "np.mean(np.sign(Ptrain) == np.sign(Ytrain)), np.mean(np.sign(Ptest) == np.sign(Ytest))"
   ]
  },
  {
   "cell_type": "code",
   "execution_count": 64,
   "id": "0e5226df-b013-4576-8be2-5f8f0641980e",
   "metadata": {},
   "outputs": [
    {
     "data": {
      "text/plain": [
       "({np.float64(-1.0), np.float64(1.0)}, {np.float64(-1.0), np.float64(1.0)})"
      ]
     },
     "execution_count": 64,
     "metadata": {},
     "output_type": "execute_result"
    }
   ],
   "source": [
    "set(np.sign(Ptrain)), set(np.sign(Ptest))"
   ]
  },
  {
   "cell_type": "code",
   "execution_count": 65,
   "id": "4b237372-11d0-4d3e-ad59-2aa05085ba62",
   "metadata": {},
   "outputs": [],
   "source": [
    "train_idx = df.index <= train.index[-1]\n",
    "test_idx = df.index > train.index[-1]\n",
    "\n",
    "train_idx[0] = False\n",
    "test_idx[-1] = False"
   ]
  },
  {
   "cell_type": "code",
   "execution_count": 66,
   "id": "8f659bd9-123f-4642-8339-449f2ef798c8",
   "metadata": {},
   "outputs": [
    {
     "name": "stderr",
     "output_type": "stream",
     "text": [
      "/tmp/ipykernel_35473/3679683236.py:2: FutureWarning: Setting an item of incompatible dtype is deprecated and will raise an error in a future version of pandas. Value '[False  True  True ... False  True False]' has dtype incompatible with int64, please explicitly cast to a compatible dtype first.\n",
      "  df_returns.loc[train_idx,'Position'] = (Ptrain > 0)\n"
     ]
    }
   ],
   "source": [
    "df_returns['Position'] = 0 # create new column\n",
    "df_returns.loc[train_idx,'Position'] = (Ptrain > 0)\n",
    "df_returns.loc[test_idx,'Position'] = (Ptest > 0)"
   ]
  },
  {
   "cell_type": "code",
   "execution_count": 67,
   "id": "95409378-ac10-48fc-83ca-73cee312fde5",
   "metadata": {},
   "outputs": [],
   "source": [
    "df_returns['AlgoReturn'] = df_returns['Position'] * df_returns['SPY']"
   ]
  },
  {
   "cell_type": "code",
   "execution_count": 68,
   "id": "a78cbd87-f60b-4e0a-9bf7-4b66dd03a8c8",
   "metadata": {},
   "outputs": [
    {
     "data": {
      "text/plain": [
       "1.5676278022971815"
      ]
     },
     "execution_count": 68,
     "metadata": {},
     "output_type": "execute_result"
    }
   ],
   "source": [
    "# Total algo log return train\n",
    "df_returns.iloc[1:-Ntest]['AlgoReturn'].sum()"
   ]
  },
  {
   "cell_type": "code",
   "execution_count": 69,
   "id": "33f46ece-0c14-467c-bc49-d4bc647d307f",
   "metadata": {},
   "outputs": [
    {
     "data": {
      "text/plain": [
       "0.2837217559154155"
      ]
     },
     "execution_count": 69,
     "metadata": {},
     "output_type": "execute_result"
    }
   ],
   "source": [
    "# Total algo log return test\n",
    "df_returns.iloc[-Ntest:-1]['AlgoReturn'].sum()"
   ]
  },
  {
   "cell_type": "code",
   "execution_count": 70,
   "id": "ab42f257-f8fe-42ee-a3be-9f742c83a1d2",
   "metadata": {},
   "outputs": [
    {
     "data": {
      "text/plain": [
       "np.float64(1.0791809572326354)"
      ]
     },
     "execution_count": 70,
     "metadata": {},
     "output_type": "execute_result"
    }
   ],
   "source": [
    "# Total return buy-and-hold train\n",
    "Ytrain.sum()"
   ]
  },
  {
   "cell_type": "code",
   "execution_count": 71,
   "id": "78e148d8-96c6-4fce-be88-5325482de03c",
   "metadata": {},
   "outputs": [
    {
     "data": {
      "text/plain": [
       "np.float64(0.4882168596359513)"
      ]
     },
     "execution_count": 71,
     "metadata": {},
     "output_type": "execute_result"
    }
   ],
   "source": [
    "# Total return buy-and-hold test\n",
    "Ytest.sum()"
   ]
  },
  {
   "cell_type": "code",
   "execution_count": 72,
   "id": "05c76b42-c1df-4568-8024-9ca01791cb1e",
   "metadata": {},
   "outputs": [
    {
     "data": {
      "text/plain": [
       "(0.5527204502814259, 0.5405405405405406)"
      ]
     },
     "execution_count": 72,
     "metadata": {},
     "output_type": "execute_result"
    }
   ],
   "source": [
    "from sklearn.linear_model import LogisticRegression\n",
    "model = LogisticRegression(C=10)\n",
    "Ctrain = (Ytrain > 0)\n",
    "Ctest = (Ytest > 0)\n",
    "model.fit(Xtrain, Ctrain)\n",
    "model.score(Xtrain, Ctrain), model.score(Xtest, Ctest)"
   ]
  },
  {
   "cell_type": "code",
   "execution_count": 73,
   "id": "6dc93d4a-86c4-4aad-9edf-22f90d4626d4",
   "metadata": {},
   "outputs": [
    {
     "data": {
      "text/plain": [
       "({np.False_, np.True_}, {np.False_, np.True_})"
      ]
     },
     "execution_count": 73,
     "metadata": {},
     "output_type": "execute_result"
    }
   ],
   "source": [
    "Ptrain = model.predict(Xtrain)\n",
    "Ptest = model.predict(Xtest)\n",
    "set(Ptrain), set(Ptest)"
   ]
  },
  {
   "cell_type": "code",
   "execution_count": 74,
   "id": "3ce66cf3-be8c-4caa-8e2a-623c1b000623",
   "metadata": {},
   "outputs": [],
   "source": [
    "df_returns.loc[train_idx,'Position'] = Ptrain\n",
    "df_returns.loc[test_idx,'Position'] = Ptest\n",
    "df_returns['AlgoReturn'] = df_returns['Position'] * df_returns['SPY']"
   ]
  },
  {
   "cell_type": "code",
   "execution_count": 75,
   "id": "fd51272c-bce4-40f1-b976-8259c69ace42",
   "metadata": {},
   "outputs": [
    {
     "data": {
      "text/plain": [
       "1.413442323853677"
      ]
     },
     "execution_count": 75,
     "metadata": {},
     "output_type": "execute_result"
    }
   ],
   "source": [
    "\n",
    "# Total algo log return train\n",
    "df_returns.iloc[1:-Ntest]['AlgoReturn'].sum()"
   ]
  },
  {
   "cell_type": "code",
   "execution_count": 76,
   "id": "1b8e715b-e9ae-4f28-9484-e1ae8810e240",
   "metadata": {},
   "outputs": [
    {
     "data": {
      "text/plain": [
       "0.5064298741010207"
      ]
     },
     "execution_count": 76,
     "metadata": {},
     "output_type": "execute_result"
    }
   ],
   "source": [
    "# Total algo log return test\n",
    "df_returns.iloc[-Ntest:-1]['AlgoReturn'].sum()"
   ]
  },
  {
   "cell_type": "code",
   "execution_count": 77,
   "id": "0bbdc608-6a01-45f4-a9a6-9edc5729a565",
   "metadata": {},
   "outputs": [
    {
     "data": {
      "text/plain": [
       "(np.float64(1.0791809572326354), np.float64(0.4882168596359513))"
      ]
     },
     "execution_count": 77,
     "metadata": {},
     "output_type": "execute_result"
    }
   ],
   "source": [
    "# Total return buy-and-hold\n",
    "Ytrain.sum(), Ytest.sum()"
   ]
  },
  {
   "cell_type": "code",
   "execution_count": 78,
   "id": "fef75343-0a76-4714-bd60-4b6c4b1b5db3",
   "metadata": {},
   "outputs": [
    {
     "data": {
      "text/plain": [
       "(1.0, 0.5185185185185185)"
      ]
     },
     "execution_count": 78,
     "metadata": {},
     "output_type": "execute_result"
    }
   ],
   "source": [
    "from sklearn.ensemble import RandomForestClassifier\n",
    "model = RandomForestClassifier(random_state=2)\n",
    "model.fit(Xtrain, Ctrain)\n",
    "model.score(Xtrain, Ctrain), model.score(Xtest, Ctest)"
   ]
  },
  {
   "cell_type": "code",
   "execution_count": 79,
   "id": "7d2211ed-af2c-44ee-903f-06400ed7b7ca",
   "metadata": {},
   "outputs": [],
   "source": [
    "Ptrain = model.predict(Xtrain)\n",
    "Ptest = model.predict(Xtest)"
   ]
  },
  {
   "cell_type": "code",
   "execution_count": 80,
   "id": "e83614ff-4bfc-4484-b26c-c3c4a311ec25",
   "metadata": {},
   "outputs": [],
   "source": [
    "df_returns.loc[train_idx,'Position'] = Ptrain\n",
    "df_returns.loc[test_idx,'Position'] = Ptest"
   ]
  },
  {
   "cell_type": "code",
   "execution_count": 81,
   "id": "18840ea8-cf28-46c9-8fac-e35a34405fb2",
   "metadata": {},
   "outputs": [],
   "source": [
    "df_returns['AlgoReturn'] = df_returns['Position'] * df_returns['SPY']"
   ]
  },
  {
   "cell_type": "code",
   "execution_count": 82,
   "id": "6be1269e-653b-47ad-8bb4-0cc0ea309321",
   "metadata": {},
   "outputs": [
    {
     "data": {
      "text/plain": [
       "9.863519339638652"
      ]
     },
     "execution_count": 82,
     "metadata": {},
     "output_type": "execute_result"
    }
   ],
   "source": [
    "# Total algo log return train\n",
    "df_returns.iloc[1:-Ntest]['AlgoReturn'].sum()"
   ]
  },
  {
   "cell_type": "code",
   "execution_count": 83,
   "id": "ff89cd37-b302-4085-be6d-bd0770e65c44",
   "metadata": {},
   "outputs": [
    {
     "data": {
      "text/plain": [
       "0.37055587555817926"
      ]
     },
     "execution_count": 83,
     "metadata": {},
     "output_type": "execute_result"
    }
   ],
   "source": [
    "# Total algo log return test\n",
    "df_returns.iloc[-Ntest:-1]['AlgoReturn'].sum()"
   ]
  },
  {
   "cell_type": "code",
   "execution_count": 84,
   "id": "831b1dc1-21a0-4f62-8087-2b30c5214d4b",
   "metadata": {},
   "outputs": [
    {
     "data": {
      "text/plain": [
       "(np.float64(1.0791809572326354), np.float64(0.4882168596359513))"
      ]
     },
     "execution_count": 84,
     "metadata": {},
     "output_type": "execute_result"
    }
   ],
   "source": [
    "# Total return buy-and-hold\n",
    "Ytrain.sum(), Ytest.sum()"
   ]
  },
  {
   "cell_type": "code",
   "execution_count": null,
   "id": "ba4ad363-33b7-47ec-8c2d-093f6a7c392d",
   "metadata": {},
   "outputs": [],
   "source": []
  }
 ],
 "metadata": {
  "kernelspec": {
   "display_name": "Python 3 (ipykernel)",
   "language": "python",
   "name": "python3"
  },
  "language_info": {
   "codemirror_mode": {
    "name": "ipython",
    "version": 3
   },
   "file_extension": ".py",
   "mimetype": "text/x-python",
   "name": "python",
   "nbconvert_exporter": "python",
   "pygments_lexer": "ipython3",
   "version": "3.10.13"
  }
 },
 "nbformat": 4,
 "nbformat_minor": 5
}
